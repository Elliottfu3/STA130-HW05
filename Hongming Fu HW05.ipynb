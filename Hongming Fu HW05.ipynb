{
 "cells": [
  {
   "cell_type": "markdown",
   "id": "797bdbdf",
   "metadata": {},
   "source": [
    "**Question A (a)** The comparison \"Biden vs. Trump\" is more representative because it combines aspects of past U.S. presidential election performance with future predictions of the winner, and we have four years of data for Biden and Trump as U.S. presidents to compare. However, in the case of \"Obama vs. Bush\", we are not only evaluating past performance, but also need to predict future performance, for which there is a lack of complete data and Biden has withdrawn from the election."
   ]
  },
  {
   "cell_type": "markdown",
   "id": "93cae5c3",
   "metadata": {},
   "source": [
    "**Question A (b)**\n",
    "The differences in the data sample are even more pronounced when considering the Biden-Trump comparison, because we can use data from their previous terms to form assumptions about their performance. This is in contrast to the original “Hillary vs. Trump” comparison, when neither candidate had presidential data to draw on. The Biden-Harris scenario extends the message of this data even further."
   ]
  },
  {
   "cell_type": "markdown",
   "id": "c122093c",
   "metadata": {},
   "source": [
    "**Question A What is hypothesis?**\n",
    "A hypothesis is a statement or assumption about a population parameter. Hypothesis testing compares the data collected from a sample with the null hypothesis to determine if there is enough evidence to reject the null hypothesis while supporting the alternative hypothesis."
   ]
  },
  {
   "cell_type": "markdown",
   "id": "81bfe249",
   "metadata": {},
   "source": [
    "**Question A**\n",
    "Chat Histories https://chatgpt.com/share/670efd0f-ace8-800f-bd83-abad74d209a8"
   ]
  },
  {
   "cell_type": "markdown",
   "id": "1e1a280d",
   "metadata": {},
   "source": [
    "**Question 1**\n",
    "In hypothesis testing, the null hypothesis (H₀) assumes that there is no significant effect, difference, or relationship in the research object, and the alternative hypothesis (H₁) assumes that there is an effect or difference. The goal of hypothesis testing is to determine whether there is enough evidence to reject the null hypothesis in favor of the alternative hypothesis through data analysis. Testable ideas need to meet two key conditions: one is measurable, and the other is falsifiable, which means that the idea must be able to be quantitatively evaluated through data and it is possible to prove it wrong by analyzing the data. A good null hypothesis should be clear and specific, and assume a state of \"no effect\" or \"no difference\". When designing the null hypothesis, make sure it can be tested through statistical data, so that it is scientifically determined whether the hypothesis can be rejected and the research conclusions can be drawn.\n",
    "\n",
    "Chat Histories https://chatgpt.com/share/670eff0b-851c-800f-8749-dd4fe6096236"
   ]
  },
  {
   "cell_type": "markdown",
   "id": "769b5d71",
   "metadata": {},
   "source": [
    "**Question 2**\n",
    "In statistical testing, we typically draw a sample from a larger population and analyze the sample data to infer the characteristics of the population. The data points in the sample (like \\( x_i \\)) are used to calculate sample statistics, such as the sample mean μ , which helps us estimate the parameters of the population. The true mean of the population μ0 is the main focus of interest, but we usually do not know its exact value.\n",
    "Therefore, the primary goal of statistical tests is to use information from the sample to infer whether the population parameter is consistent with our assumptions. For example, in hypothesis testing, we compare the sample data to the hypothesized population mean μ0 to determine whether the sample provides sufficient evidence to reject the null hypothesis. This means that while we analyze the sample data, the real focus is on making inferences about the population’s true characteristics, not just drawing conclusions about the sample itself.\n",
    "Thus, the outcome of statistical tests is centered on the population parameter rather than the sample statistic. This process ensures that we can make reasonable inferences about a larger population or phenomenon based on limited sample data.\n",
    "\n"
   ]
  },
  {
   "cell_type": "markdown",
   "id": "0cb2d409",
   "metadata": {},
   "source": [
    "**Question 3**\n",
    "When calculating the p-value, we start our study from this point assuming that the null hypothesis is true. The null hypothesis states that there is no effect or difference in the population being studied, and that any differences in this set of studies are due to random chance.\n",
    "By imagining a world where the null hypothesis is true, we can investigate the likelihood that the data we collected (or more extreme data) could have been observed by chance, and the p-value tells us this likelihood. If the p-value is very small, it indicates that it is unlikely that the observed data occurred by chance, providing us with evidence against the null hypothesis.\n",
    "\n",
    "Chat Histories https://chatgpt.com/share/670f033c-43f4-800f-a178-51601d1cea79"
   ]
  },
  {
   "cell_type": "markdown",
   "id": "29dca1f4",
   "metadata": {},
   "source": [
    "**Question 4**\n",
    "As the p-value decreases, it indicates that the data extreme observed under the null hypothesis is less likely to occur, which makes the null hypothesis seem less plausible. This is because the p-value represents the probability of obtaining such an extreme result when the null hypothesis is true. Therefore, the smaller the p-value, the stronger the evidence against the null hypothesis, making it seem more \"ridiculous\" or unlikely to be true.\n",
    "\n",
    "Chat Histories https://chatgpt.com/share/670f053b-c954-800f-8c22-5b07b009b239"
   ]
  },
  {
   "cell_type": "code",
   "execution_count": 2,
   "id": "9c4b1e7c",
   "metadata": {},
   "outputs": [
    {
     "name": "stdout",
     "output_type": "stream",
     "text": [
      "Performing simulation...\n",
      "Simulation complete.\n",
      "Calculating p-value...\n",
      "P-value: 0.00070\n",
      "Evidence: Very strong evidence against the null hypothesis\n"
     ]
    }
   ],
   "source": [
    "#Question 5\n",
    "import numpy as np\n",
    "\n",
    "# Step 1: Define the parameters\n",
    "n_couples = 124             # Total number of couples\n",
    "observed_right_tilts = 80    # Observed number of right tilts\n",
    "num_simulations = 10000      # Number of simulations\n",
    "\n",
    "# Step 2: Perform the simulation\n",
    "print(\"Performing simulation...\")\n",
    "simulations = np.random.binomial(n=n_couples, p=0.5, size=num_simulations)\n",
    "print(\"Simulation complete.\")\n",
    "\n",
    "# Step 3: Calculate the p-value\n",
    "print(\"Calculating p-value...\")\n",
    "p_value = np.mean(simulations >= observed_right_tilts)\n",
    "print(f\"P-value: {p_value:.5f}\")\n",
    "\n",
    "# Step 4: Determine the level of evidence using the provided table\n",
    "if p_value > 0.1:\n",
    "    evidence = \"No evidence against the null hypothesis\"\n",
    "elif 0.1 >= p_value > 0.05:\n",
    "    evidence = \"Weak evidence against the null hypothesis\"\n",
    "elif 0.05 >= p_value > 0.01:\n",
    "    evidence = \"Moderate evidence against the null hypothesis\"\n",
    "elif 0.01 >= p_value > 0.001:\n",
    "    evidence = \"Strong evidence against the null hypothesis\"\n",
    "else:\n",
    "    evidence = \"Very strong evidence against the null hypothesis\"\n",
    "\n",
    "# Step 5: Display the evidence\n",
    "print(f\"Evidence: {evidence}\")\n"
   ]
  },
  {
   "cell_type": "markdown",
   "id": "c85909bb",
   "metadata": {},
   "source": [
    "**Question 5**\n",
    "Based on the provided table, the p-value from the simulation is 0.00070, which falls into the category:\n",
    "0.001≥p\n",
    "According to the table, this corresponds to **\"Very strong evidence against the null hypothesis.\"**\n",
    "\n",
    "Thus, the simulation provides very strong evidence against the null hypothesis that couples have no preference for tilting their heads to the right or left when kissing."
   ]
  },
  {
   "cell_type": "markdown",
   "id": "802afa1f",
   "metadata": {},
   "source": [
    "**Question 6**\n",
    "Even if the p-value is small, we still cannot definitively prove that the null hypothesis is false. The p-value simply measures the strength of the evidence against the null hypothesis; the lower the value, the stronger the evidence. However, it does not guarantee that the null hypothesis is false. Statistical hypothesis testing is based on probability and uncertainty, not absolute evidence."
   ]
  },
  {
   "cell_type": "markdown",
   "id": "5a6e324a",
   "metadata": {},
   "source": [
    "**Question 6**\n",
    "Chat Histories https://chatgpt.com/share/670f0f18-e4e8-800f-a7aa-8039c954049a"
   ]
  },
  {
   "cell_type": "code",
   "execution_count": 4,
   "id": "afb91f48",
   "metadata": {},
   "outputs": [
    {
     "name": "stdout",
     "output_type": "stream",
     "text": [
      "   HealthScoreChange\n",
      "0           0.496714\n",
      "1          -0.138264\n",
      "2           0.647689\n",
      "3           1.523030\n",
      "4          -0.234153\n",
      "5          -0.234137\n",
      "6           1.579213\n",
      "7           0.767435\n",
      "8          -0.469474\n",
      "9           0.542560\n",
      "One-sided p-value: 0.373\n"
     ]
    }
   ],
   "source": [
    "#Question 7\n",
    "import pandas as pd\n",
    "import numpy as np\n",
    "\n",
    "# Simulate a dataset\n",
    "np.random.seed(42)  # Ensure reproducibility\n",
    "n_patients = 10  # Let's assume we have data for 10 patients\n",
    "health_score_change = np.random.normal(loc=0, scale=1, size=n_patients)  # Random normal changes\n",
    "\n",
    "# Create the DataFrame\n",
    "patient_data = pd.DataFrame({'HealthScoreChange': health_score_change})\n",
    "\n",
    "# Display the simulated data\n",
    "print(patient_data)\n",
    "\n",
    "# Compute observed proportion of patients with improvement\n",
    "observed_proportion = (patient_data['HealthScoreChange'] > 0).mean()\n",
    "\n",
    "# Simulate random improvements under the null hypothesis\n",
    "np.random.seed(1)  # Make the simulation reproducible\n",
    "number_of_simulations = 10000\n",
    "IncreaseProportionSimulations_underH0random = np.zeros(number_of_simulations)\n",
    "\n",
    "for i in range(number_of_simulations):\n",
    "    random_improvement = np.random.choice([0, 1], size=len(patient_data), replace=True)\n",
    "    IncreaseProportionSimulations_underH0random[i] = random_improvement.mean()\n",
    "\n",
    "# One-sided p-value (right-tailed)\n",
    "p_value = (IncreaseProportionSimulations_underH0random >= observed_proportion).mean()\n",
    "\n",
    "print(f\"One-sided p-value: {p_value}\")\n",
    "\n"
   ]
  },
  {
   "cell_type": "markdown",
   "id": "046626b8",
   "metadata": {},
   "source": [
    "**Question 7**\n",
    "Several changes were made to the code:\n",
    "A simulated dataset of changes in health scores for 10 patients was added, and the observed proportion of patients who improved was calculated: this is a key statistic for comparison with the null distribution.\n",
    "Assuming the null hypothesis (improvement by random chance), 10,000 simulations were run to create a distribution of proportions of improvement under random chance."
   ]
  },
  {
   "cell_type": "markdown",
   "id": "38502ef1",
   "metadata": {},
   "source": [
    "**Question 7**\n",
    "Chat Histories https://chatgpt.com/share/670f122f-2de8-800f-b1c8-95bf44bac870"
   ]
  },
  {
   "cell_type": "code",
   "execution_count": 5,
   "id": "4c8054dd",
   "metadata": {},
   "outputs": [
    {
     "name": "stdout",
     "output_type": "stream",
     "text": [
      "z-statistic: 2.0124611797498115\n",
      "p-value: 0.022085672454221217\n"
     ]
    }
   ],
   "source": [
    "#Question 8\n",
    "import numpy as np\n",
    "from scipy.stats import norm\n",
    "\n",
    "# Set a random seed for reproducibility\n",
    "np.random.seed(42)\n",
    "\n",
    "# Given values\n",
    "p_hat = 49 / 80  # observed sample proportion\n",
    "p_0 = 0.5  # null hypothesis proportion\n",
    "n = 80  # sample size\n",
    "\n",
    "# Calculate z-statistic\n",
    "z_stat = (p_hat - p_0) / np.sqrt(p_0 * (1 - p_0) / n)\n",
    "\n",
    "# Calculate p-value (one-tailed test)\n",
    "p_value = 1 - norm.cdf(z_stat)\n",
    "\n",
    "print(\"z-statistic:\", z_stat)\n",
    "print(\"p-value:\", p_value)\n"
   ]
  },
  {
   "cell_type": "markdown",
   "id": "68b4d7df",
   "metadata": {},
   "source": [
    "**Question 8**\n",
    "The null hypothesis (H₀) assumes that STA130 students are merely guessing, with a 50% chance of correctly identifying whether tea or milk was poured first (\\(p = 0.5\\)). The alternative hypothesis (H₁) posits that students have some ability to correctly identify the order (\\(p > 0.5\\)). A z-test for proportions was conducted, comparing the observed sample proportion of 0.6125 to the hypothesized value of 0.5. The resulting z-statistic was 2.01, and the p-value was 0.0221. Since the p-value is less than 0.05, we reject H₀, indicating that students' performance is likely better than random guessing."
   ]
  },
  {
   "cell_type": "markdown",
   "id": "7d87e126",
   "metadata": {},
   "source": [
    "**Question 8**\n",
    "https://chatgpt.com/share/670f1411-ba34-800f-b49c-ece94306d86d"
   ]
  },
  {
   "cell_type": "markdown",
   "id": "5a500c3f",
   "metadata": {},
   "source": [
    "**Question 9**\n",
    "I have reviewed the course wiki-textbook and interacted with a ChatBot to help me to understand all the material in the tutorial and lecture that I didn't quite follow when I first saw it."
   ]
  }
 ],
 "metadata": {
  "kernelspec": {
   "display_name": "Python 3 (ipykernel)",
   "language": "python",
   "name": "python3"
  },
  "language_info": {
   "codemirror_mode": {
    "name": "ipython",
    "version": 3
   },
   "file_extension": ".py",
   "mimetype": "text/x-python",
   "name": "python",
   "nbconvert_exporter": "python",
   "pygments_lexer": "ipython3",
   "version": "3.11.6"
  }
 },
 "nbformat": 4,
 "nbformat_minor": 5
}
